{
 "cells": [
  {
   "cell_type": "code",
   "execution_count": 1,
   "metadata": {},
   "outputs": [],
   "source": [
    "from tensorflow.compat.v1 import ConfigProto\n",
    "from tensorflow.compat.v1 import InteractiveSession\n",
    "\n",
    "config = ConfigProto()\n",
    "config.gpu_options.per_process_gpu_memory_fraction = 0.75\n",
    "config.gpu_options.allow_growth = True\n",
    "session = InteractiveSession(config=config)"
   ]
  },
  {
   "cell_type": "code",
   "execution_count": 2,
   "metadata": {},
   "outputs": [
    {
     "name": "stderr",
     "output_type": "stream",
     "text": [
      "Using TensorFlow backend.\n"
     ]
    }
   ],
   "source": [
    "\n",
    "from tensorflow.keras.layers import Input, Lambda, Dense, Flatten\n",
    "from tensorflow.keras.models import Model\n",
    "#from tensorflow.keras.applications.inception_v3 import InceptionV3\n",
    "from keras.applications import VGG16\n",
    "from tensorflow.keras.applications.inception_v3 import preprocess_input\n",
    "from tensorflow.keras.preprocessing import image\n",
    "from tensorflow.keras.preprocessing.image import ImageDataGenerator,load_img\n",
    "from tensorflow.keras.models import Sequential\n",
    "import numpy as np\n",
    "from glob import glob\n",
    "import matplotlib.pyplot as plt"
   ]
  },
  {
   "cell_type": "code",
   "execution_count": 3,
   "metadata": {},
   "outputs": [],
   "source": [
    "IMAGE_SIZE = [224, 224]\n",
    "\n",
    "train_path = 'Data/train'\n",
    "valid_path = 'Data/test'"
   ]
  },
  {
   "cell_type": "code",
   "execution_count": 4,
   "metadata": {},
   "outputs": [],
   "source": [
    "vgg = VGG16(input_shape=[224,224]+[3] , weights='imagenet', include_top=False)"
   ]
  },
  {
   "cell_type": "code",
   "execution_count": 5,
   "metadata": {},
   "outputs": [],
   "source": [
    "for layer in vgg.layers:\n",
    "    layer.trainable = False"
   ]
  },
  {
   "cell_type": "code",
   "execution_count": 6,
   "metadata": {},
   "outputs": [],
   "source": [
    "folders = glob('Data/train/*')"
   ]
  },
  {
   "cell_type": "code",
   "execution_count": 7,
   "metadata": {},
   "outputs": [],
   "source": [
    "from tensorflow.keras import layers,models"
   ]
  },
  {
   "cell_type": "code",
   "execution_count": 8,
   "metadata": {},
   "outputs": [],
   "source": [
    "from tensorflow.keras.preprocessing.image import ImageDataGenerator\n",
    "\n",
    "train_datagen = ImageDataGenerator(rescale = 1./255,\n",
    "                                   shear_range = 0.2,\n",
    "                                   zoom_range = 0.2,\n",
    "                                   horizontal_flip = True)\n",
    "\n",
    "test_datagen = ImageDataGenerator(rescale = 1./255)"
   ]
  },
  {
   "cell_type": "code",
   "execution_count": 9,
   "metadata": {},
   "outputs": [
    {
     "name": "stdout",
     "output_type": "stream",
     "text": [
      "Found 1951 images belonging to 4 classes.\n"
     ]
    }
   ],
   "source": [
    "training_set = train_datagen.flow_from_directory('Data/train',\n",
    "                                                 target_size = (224, 224),\n",
    "                                                 batch_size = 8,\n",
    "                                                 class_mode = 'categorical')"
   ]
  },
  {
   "cell_type": "code",
   "execution_count": 10,
   "metadata": {},
   "outputs": [
    {
     "name": "stdout",
     "output_type": "stream",
     "text": [
      "Found 18 images belonging to 4 classes.\n"
     ]
    }
   ],
   "source": [
    "test_set = test_datagen.flow_from_directory('Data/test',\n",
    "                                            target_size = (224, 224),\n",
    "                                            batch_size = 8,\n",
    "                                            class_mode = 'categorical')"
   ]
  },
  {
   "cell_type": "code",
   "execution_count": 11,
   "metadata": {},
   "outputs": [],
   "source": [
    "from tensorflow.keras.applications import VGG16\n",
    "\n",
    "conv_base=VGG16(weights='imagenet',\n",
    "                include_top=False,\n",
    "                input_shape=(224,224,3))"
   ]
  },
  {
   "cell_type": "code",
   "execution_count": 12,
   "metadata": {
    "scrolled": true
   },
   "outputs": [
    {
     "name": "stdout",
     "output_type": "stream",
     "text": [
      "Model: \"vgg16\"\n",
      "_________________________________________________________________\n",
      "Layer (type)                 Output Shape              Param #   \n",
      "=================================================================\n",
      "input_2 (InputLayer)         [(None, 224, 224, 3)]     0         \n",
      "_________________________________________________________________\n",
      "block1_conv1 (Conv2D)        (None, 224, 224, 64)      1792      \n",
      "_________________________________________________________________\n",
      "block1_conv2 (Conv2D)        (None, 224, 224, 64)      36928     \n",
      "_________________________________________________________________\n",
      "block1_pool (MaxPooling2D)   (None, 112, 112, 64)      0         \n",
      "_________________________________________________________________\n",
      "block2_conv1 (Conv2D)        (None, 112, 112, 128)     73856     \n",
      "_________________________________________________________________\n",
      "block2_conv2 (Conv2D)        (None, 112, 112, 128)     147584    \n",
      "_________________________________________________________________\n",
      "block2_pool (MaxPooling2D)   (None, 56, 56, 128)       0         \n",
      "_________________________________________________________________\n",
      "block3_conv1 (Conv2D)        (None, 56, 56, 256)       295168    \n",
      "_________________________________________________________________\n",
      "block3_conv2 (Conv2D)        (None, 56, 56, 256)       590080    \n",
      "_________________________________________________________________\n",
      "block3_conv3 (Conv2D)        (None, 56, 56, 256)       590080    \n",
      "_________________________________________________________________\n",
      "block3_pool (MaxPooling2D)   (None, 28, 28, 256)       0         \n",
      "_________________________________________________________________\n",
      "block4_conv1 (Conv2D)        (None, 28, 28, 512)       1180160   \n",
      "_________________________________________________________________\n",
      "block4_conv2 (Conv2D)        (None, 28, 28, 512)       2359808   \n",
      "_________________________________________________________________\n",
      "block4_conv3 (Conv2D)        (None, 28, 28, 512)       2359808   \n",
      "_________________________________________________________________\n",
      "block4_pool (MaxPooling2D)   (None, 14, 14, 512)       0         \n",
      "_________________________________________________________________\n",
      "block5_conv1 (Conv2D)        (None, 14, 14, 512)       2359808   \n",
      "_________________________________________________________________\n",
      "block5_conv2 (Conv2D)        (None, 14, 14, 512)       2359808   \n",
      "_________________________________________________________________\n",
      "block5_conv3 (Conv2D)        (None, 14, 14, 512)       2359808   \n",
      "_________________________________________________________________\n",
      "block5_pool (MaxPooling2D)   (None, 7, 7, 512)         0         \n",
      "=================================================================\n",
      "Total params: 14,714,688\n",
      "Trainable params: 14,714,688\n",
      "Non-trainable params: 0\n",
      "_________________________________________________________________\n"
     ]
    }
   ],
   "source": [
    "conv_base.summary()"
   ]
  },
  {
   "cell_type": "code",
   "execution_count": 13,
   "metadata": {},
   "outputs": [],
   "source": [
    "from tensorflow.keras import layers,models"
   ]
  },
  {
   "cell_type": "code",
   "execution_count": 14,
   "metadata": {},
   "outputs": [],
   "source": [
    "model=models.Sequential()\n",
    "model.add(conv_base)\n",
    "model.add(layers.Flatten())\n",
    "model.add(layers.Dense(len(folders),activation='softmax'))"
   ]
  },
  {
   "cell_type": "code",
   "execution_count": 15,
   "metadata": {},
   "outputs": [
    {
     "name": "stdout",
     "output_type": "stream",
     "text": [
      "Model: \"sequential\"\n",
      "_________________________________________________________________\n",
      "Layer (type)                 Output Shape              Param #   \n",
      "=================================================================\n",
      "vgg16 (Model)                (None, 7, 7, 512)         14714688  \n",
      "_________________________________________________________________\n",
      "flatten (Flatten)            (None, 25088)             0         \n",
      "_________________________________________________________________\n",
      "dense (Dense)                (None, 4)                 100356    \n",
      "=================================================================\n",
      "Total params: 14,815,044\n",
      "Trainable params: 14,815,044\n",
      "Non-trainable params: 0\n",
      "_________________________________________________________________\n"
     ]
    }
   ],
   "source": [
    "model.summary()"
   ]
  },
  {
   "cell_type": "code",
   "execution_count": 16,
   "metadata": {},
   "outputs": [],
   "source": [
    "model.compile(\n",
    "  loss='categorical_crossentropy',\n",
    "  optimizer='adam',\n",
    "  metrics=['accuracy']\n",
    ")"
   ]
  },
  {
   "cell_type": "code",
   "execution_count": 17,
   "metadata": {},
   "outputs": [
    {
     "data": {
      "text/plain": [
       "244"
      ]
     },
     "execution_count": 17,
     "metadata": {},
     "output_type": "execute_result"
    }
   ],
   "source": [
    "len(training_set)"
   ]
  },
  {
   "cell_type": "code",
   "execution_count": null,
   "metadata": {
    "scrolled": true
   },
   "outputs": [],
   "source": []
  },
  {
   "cell_type": "code",
   "execution_count": 19,
   "metadata": {},
   "outputs": [
    {
     "name": "stdout",
     "output_type": "stream",
     "text": [
      "WARNING:tensorflow:sample_weight modes were coerced from\n",
      "  ...\n",
      "    to  \n",
      "  ['...']\n",
      "WARNING:tensorflow:sample_weight modes were coerced from\n",
      "  ...\n",
      "    to  \n",
      "  ['...']\n",
      "Train for 3 steps, validate for 3 steps\n",
      "Epoch 1/50\n",
      "3/3 [==============================] - 3s 886ms/step - loss: 1.3835 - accuracy: 0.4167 - val_loss: 1.3782 - val_accuracy: 0.2778\n",
      "Epoch 2/50\n",
      "3/3 [==============================] - 2s 803ms/step - loss: 1.3853 - accuracy: 0.2917 - val_loss: 1.3776 - val_accuracy: 0.2778\n",
      "Epoch 3/50\n",
      "3/3 [==============================] - 2s 817ms/step - loss: 1.3815 - accuracy: 0.3750 - val_loss: 1.3772 - val_accuracy: 0.2778\n",
      "Epoch 4/50\n",
      "3/3 [==============================] - 2s 804ms/step - loss: 1.3813 - accuracy: 0.4167 - val_loss: 1.3766 - val_accuracy: 0.2778\n",
      "Epoch 5/50\n",
      "3/3 [==============================] - 2s 810ms/step - loss: 1.3819 - accuracy: 0.3333 - val_loss: 1.3761 - val_accuracy: 0.2778\n",
      "Epoch 6/50\n",
      "3/3 [==============================] - 2s 825ms/step - loss: 1.3814 - accuracy: 0.3333 - val_loss: 1.3757 - val_accuracy: 0.2778\n",
      "Epoch 7/50\n",
      "3/3 [==============================] - 2s 810ms/step - loss: 1.3776 - accuracy: 0.4167 - val_loss: 1.3753 - val_accuracy: 0.2778\n",
      "Epoch 8/50\n",
      "3/3 [==============================] - 6s 2s/step - loss: 1.3772 - accuracy: 0.4348 - val_loss: 1.3747 - val_accuracy: 0.2778\n",
      "Epoch 9/50\n",
      "3/3 [==============================] - 2s 833ms/step - loss: 1.3756 - accuracy: 0.4167 - val_loss: 1.3741 - val_accuracy: 0.2778\n",
      "Epoch 10/50\n",
      "3/3 [==============================] - 3s 842ms/step - loss: 1.3704 - accuracy: 0.5000 - val_loss: 1.3734 - val_accuracy: 0.2778\n",
      "Epoch 11/50\n",
      "3/3 [==============================] - 2s 831ms/step - loss: 1.3752 - accuracy: 0.3750 - val_loss: 1.3728 - val_accuracy: 0.2778\n",
      "Epoch 12/50\n",
      "3/3 [==============================] - 3s 838ms/step - loss: 1.3726 - accuracy: 0.4167 - val_loss: 1.3721 - val_accuracy: 0.2778\n",
      "Epoch 13/50\n",
      "3/3 [==============================] - 3s 851ms/step - loss: 1.3691 - accuracy: 0.4583 - val_loss: 1.3714 - val_accuracy: 0.2778\n",
      "Epoch 14/50\n",
      "3/3 [==============================] - 3s 862ms/step - loss: 1.3739 - accuracy: 0.4583 - val_loss: 1.3706 - val_accuracy: 0.2778\n",
      "Epoch 15/50\n",
      "3/3 [==============================] - 3s 884ms/step - loss: 1.3602 - accuracy: 0.6250 - val_loss: 1.3698 - val_accuracy: 0.2778\n",
      "Epoch 16/50\n",
      "3/3 [==============================] - 3s 877ms/step - loss: 1.3897 - accuracy: 0.2083 - val_loss: 1.3692 - val_accuracy: 0.2778\n",
      "Epoch 17/50\n",
      "3/3 [==============================] - 3s 885ms/step - loss: 1.3577 - accuracy: 0.5833 - val_loss: 1.3686 - val_accuracy: 0.2778\n",
      "Epoch 18/50\n",
      "3/3 [==============================] - 3s 898ms/step - loss: 1.3736 - accuracy: 0.4167 - val_loss: 1.3678 - val_accuracy: 0.2778\n",
      "Epoch 19/50\n",
      "3/3 [==============================] - 3s 892ms/step - loss: 1.3808 - accuracy: 0.2917 - val_loss: 1.3673 - val_accuracy: 0.2778\n",
      "Epoch 20/50\n",
      "3/3 [==============================] - 3s 903ms/step - loss: 1.3660 - accuracy: 0.5000 - val_loss: 1.3667 - val_accuracy: 0.2778\n",
      "Epoch 21/50\n",
      "3/3 [==============================] - 3s 871ms/step - loss: 1.3827 - accuracy: 0.2917 - val_loss: 1.3662 - val_accuracy: 0.2778\n",
      "Epoch 22/50\n",
      "3/3 [==============================] - 3s 882ms/step - loss: 1.3758 - accuracy: 0.3750 - val_loss: 1.3658 - val_accuracy: 0.2778\n",
      "Epoch 23/50\n",
      "3/3 [==============================] - 3s 905ms/step - loss: 1.3687 - accuracy: 0.4583 - val_loss: 1.3653 - val_accuracy: 0.2778\n",
      "Epoch 24/50\n",
      "3/3 [==============================] - 3s 898ms/step - loss: 1.3665 - accuracy: 0.4167 - val_loss: 1.3648 - val_accuracy: 0.2778\n",
      "Epoch 25/50\n",
      "3/3 [==============================] - 3s 910ms/step - loss: 1.3701 - accuracy: 0.4167 - val_loss: 1.3642 - val_accuracy: 0.2778\n",
      "Epoch 26/50\n",
      "3/3 [==============================] - 3s 913ms/step - loss: 1.3670 - accuracy: 0.4583 - val_loss: 1.3637 - val_accuracy: 0.2778\n",
      "Epoch 27/50\n",
      "3/3 [==============================] - 3s 1s/step - loss: 1.3599 - accuracy: 0.5000 - val_loss: 1.3631 - val_accuracy: 0.2778\n",
      "Epoch 28/50\n",
      "3/3 [==============================] - 4s 1s/step - loss: 1.3626 - accuracy: 0.4583 - val_loss: 1.3624 - val_accuracy: 0.2778\n",
      "Epoch 29/50\n",
      "3/3 [==============================] - 4s 1s/step - loss: 1.3624 - accuracy: 0.4783 - val_loss: 1.3618 - val_accuracy: 0.2778\n",
      "Epoch 30/50\n",
      "3/3 [==============================] - 4s 1s/step - loss: 1.3714 - accuracy: 0.3333 - val_loss: 1.3612 - val_accuracy: 0.2778\n",
      "Epoch 31/50\n",
      "3/3 [==============================] - 4s 1s/step - loss: 1.3747 - accuracy: 0.3333 - val_loss: 1.3606 - val_accuracy: 0.2778\n",
      "Epoch 32/50\n",
      "3/3 [==============================] - 3s 1s/step - loss: 1.3691 - accuracy: 0.3333 - val_loss: 1.3602 - val_accuracy: 0.2778\n",
      "Epoch 33/50\n",
      "3/3 [==============================] - 3s 1s/step - loss: 1.3564 - accuracy: 0.4583 - val_loss: 1.3597 - val_accuracy: 0.2778\n",
      "Epoch 34/50\n",
      "3/3 [==============================] - 3s 1s/step - loss: 1.3540 - accuracy: 0.4583 - val_loss: 1.3591 - val_accuracy: 0.2778\n",
      "Epoch 35/50\n",
      "3/3 [==============================] - 3s 946ms/step - loss: 1.3588 - accuracy: 0.5000 - val_loss: 1.3584 - val_accuracy: 0.2778\n",
      "Epoch 36/50\n",
      "3/3 [==============================] - 3s 954ms/step - loss: 1.3603 - accuracy: 0.4167 - val_loss: 1.3578 - val_accuracy: 0.2778\n",
      "Epoch 37/50\n",
      "3/3 [==============================] - 3s 974ms/step - loss: 1.3574 - accuracy: 0.5000 - val_loss: 1.3571 - val_accuracy: 0.2778\n",
      "Epoch 38/50\n",
      "3/3 [==============================] - 3s 951ms/step - loss: 1.3589 - accuracy: 0.4583 - val_loss: 1.3566 - val_accuracy: 0.2778\n",
      "Epoch 39/50\n",
      "3/3 [==============================] - 3s 937ms/step - loss: 1.3479 - accuracy: 0.5000 - val_loss: 1.3559 - val_accuracy: 0.2778\n",
      "Epoch 40/50\n",
      "3/3 [==============================] - 3s 999ms/step - loss: 1.3767 - accuracy: 0.2917 - val_loss: 1.3553 - val_accuracy: 0.2778\n",
      "Epoch 41/50\n",
      "3/3 [==============================] - 3s 931ms/step - loss: 1.3486 - accuracy: 0.5000 - val_loss: 1.3547 - val_accuracy: 0.2778\n",
      "Epoch 42/50\n",
      "3/3 [==============================] - 3s 935ms/step - loss: 1.3699 - accuracy: 0.3333 - val_loss: 1.3542 - val_accuracy: 0.2778\n",
      "Epoch 43/50\n",
      "3/3 [==============================] - 3s 949ms/step - loss: 1.3670 - accuracy: 0.3750 - val_loss: 1.3537 - val_accuracy: 0.2778\n",
      "Epoch 44/50\n",
      "3/3 [==============================] - 3s 939ms/step - loss: 1.3659 - accuracy: 0.3333 - val_loss: 1.3532 - val_accuracy: 0.2778\n",
      "Epoch 45/50\n",
      "3/3 [==============================] - 3s 1s/step - loss: 1.3761 - accuracy: 0.2917 - val_loss: 1.3529 - val_accuracy: 0.2778\n",
      "Epoch 46/50\n",
      "3/3 [==============================] - 3s 1s/step - loss: 1.3467 - accuracy: 0.5000 - val_loss: 1.3524 - val_accuracy: 0.2778\n",
      "Epoch 47/50\n",
      "3/3 [==============================] - 3s 1s/step - loss: 1.3669 - accuracy: 0.4167 - val_loss: 1.3520 - val_accuracy: 0.2778\n",
      "Epoch 48/50\n",
      "3/3 [==============================] - 4s 1s/step - loss: 1.3606 - accuracy: 0.4167 - val_loss: 1.3515 - val_accuracy: 0.2778\n",
      "Epoch 49/50\n",
      "3/3 [==============================] - 3s 1s/step - loss: 1.3676 - accuracy: 0.3750 - val_loss: 1.3511 - val_accuracy: 0.2778\n",
      "Epoch 50/50\n",
      "3/3 [==============================] - 3s 1s/step - loss: 1.3599 - accuracy: 0.4167 - val_loss: 1.3506 - val_accuracy: 0.2778\n"
     ]
    }
   ],
   "source": [
    "a=model.fit(training_set,validation_data=test_set,epochs=50,steps_per_epoch=len(test_set))"
   ]
  },
  {
   "cell_type": "markdown",
   "metadata": {},
   "source": []
  }
 ],
 "metadata": {
  "kernelspec": {
   "display_name": "Python 3",
   "language": "python",
   "name": "python3"
  },
  "language_info": {
   "codemirror_mode": {
    "name": "ipython",
    "version": 3
   },
   "file_extension": ".py",
   "mimetype": "text/x-python",
   "name": "python",
   "nbconvert_exporter": "python",
   "pygments_lexer": "ipython3",
   "version": "3.7.9"
  }
 },
 "nbformat": 4,
 "nbformat_minor": 4
}
